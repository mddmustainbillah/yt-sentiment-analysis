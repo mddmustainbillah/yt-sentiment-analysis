{
 "cells": [
  {
   "cell_type": "code",
   "execution_count": 12,
   "metadata": {},
   "outputs": [],
   "source": [
    "import optuna\n",
    "import mlflow\n",
    "import mlflow.sklearn\n",
    "from sklearn.model_selection import train_test_split\n",
    "from sklearn.metrics import accuracy_score, classification_report\n",
    "from sklearn.feature_extraction.text import TfidfVectorizer\n",
    "from sklearn.linear_model import LogisticRegression\n",
    "from sklearn.svm import SVC\n",
    "from xgboost import XGBClassifier\n",
    "from lightgbm import LGBMClassifier\n",
    "from sklearn.neighbors import KNeighborsClassifier\n",
    "from sklearn.naive_bayes import MultinomialNB\n",
    "from sklearn.ensemble import RandomForestClassifier\n",
    "from imblearn.over_sampling import SMOTE\n",
    "import matplotlib.pyplot as plt\n",
    "import seaborn as sns\n",
    "import pandas as pd"
   ]
  },
  {
   "cell_type": "code",
   "execution_count": 13,
   "metadata": {},
   "outputs": [
    {
     "data": {
      "text/plain": [
       "<Experiment: artifact_location='file:///Users/mustainbillah/Projects/sentiment-analysis/mlruns/658432777505770578', creation_time=1748791728665, experiment_id='658432777505770578', last_update_time=1748791728665, lifecycle_stage='active', name='04_ML_Algorithm_Comparison_with_HPT', tags={}>"
      ]
     },
     "execution_count": 13,
     "metadata": {},
     "output_type": "execute_result"
    }
   ],
   "source": [
    "# Set the tracking URI to the local mlruns directory\n",
    "mlflow.set_tracking_uri(\"file:///Users/mustainbillah/Projects/sentiment-analysis/mlruns\")\n",
    "\n",
    "# Create and set the experiment\n",
    "experiment_name = \"04_ML_Algorithm_Comparison_with_HPT\"\n",
    "try:\n",
    "    experiment_id = mlflow.create_experiment(experiment_name)\n",
    "except:\n",
    "    experiment_id = mlflow.get_experiment_by_name(experiment_name).experiment_id\n",
    "mlflow.set_experiment(experiment_name)"
   ]
  },
  {
   "cell_type": "code",
   "execution_count": 14,
   "metadata": {},
   "outputs": [
    {
     "data": {
      "text/plain": [
       "(36662, 2)"
      ]
     },
     "execution_count": 14,
     "metadata": {},
     "output_type": "execute_result"
    }
   ],
   "source": [
    "df = pd.read_csv('reddit_preprocessing.csv').dropna(subset=['clean_comment'])\n",
    "df.shape"
   ]
  },
  {
   "cell_type": "code",
   "execution_count": 15,
   "metadata": {},
   "outputs": [
    {
     "name": "stderr",
     "output_type": "stream",
     "text": [
      "[I 2025-06-01 21:28:54,739] A new study created in memory with name: no-name-f9dadd73-2e06-4e99-ad91-a180f5fc71a6\n",
      "[I 2025-06-01 21:29:12,296] Trial 0 finished with value: 0.5284331105959362 and parameters: {'n_estimators': 298, 'learning_rate': 0.00010475374250104919, 'max_depth': 4}. Best is trial 0 with value: 0.5284331105959362.\n",
      "[I 2025-06-01 21:29:24,408] Trial 1 finished with value: 0.5547524887494886 and parameters: {'n_estimators': 87, 'learning_rate': 0.0005114273510169308, 'max_depth': 6}. Best is trial 1 with value: 0.5547524887494886.\n",
      "[I 2025-06-01 21:29:36,867] Trial 2 finished with value: 0.6881221873721532 and parameters: {'n_estimators': 95, 'learning_rate': 0.047860540179507784, 'max_depth': 6}. Best is trial 2 with value: 0.6881221873721532.\n",
      "[I 2025-06-01 21:30:18,645] Trial 3 finished with value: 0.591981453702441 and parameters: {'n_estimators': 182, 'learning_rate': 0.00021989445503352252, 'max_depth': 8}. Best is trial 2 with value: 0.6881221873721532.\n",
      "[I 2025-06-01 21:30:50,753] Trial 4 finished with value: 0.615982544661121 and parameters: {'n_estimators': 107, 'learning_rate': 0.0018480791273082027, 'max_depth': 9}. Best is trial 2 with value: 0.6881221873721532.\n",
      "[I 2025-06-01 21:31:36,195] Trial 5 finished with value: 0.5893904268375836 and parameters: {'n_estimators': 249, 'learning_rate': 0.0012023768538040433, 'max_depth': 7}. Best is trial 2 with value: 0.6881221873721532.\n",
      "[I 2025-06-01 21:31:45,973] Trial 6 finished with value: 0.5405700259102687 and parameters: {'n_estimators': 160, 'learning_rate': 0.0012999343066814654, 'max_depth': 4}. Best is trial 2 with value: 0.6881221873721532.\n",
      "[I 2025-06-01 21:31:52,825] Trial 7 finished with value: 0.5930724123823811 and parameters: {'n_estimators': 109, 'learning_rate': 0.011135289463009412, 'max_depth': 4}. Best is trial 2 with value: 0.6881221873721532.\n",
      "[I 2025-06-01 21:32:12,004] Trial 8 finished with value: 0.5367516705304787 and parameters: {'n_estimators': 286, 'learning_rate': 0.00028705235959032067, 'max_depth': 4}. Best is trial 2 with value: 0.6881221873721532.\n",
      "[I 2025-06-01 21:32:34,773] Trial 9 finished with value: 0.6237556252556934 and parameters: {'n_estimators': 91, 'learning_rate': 0.006575858296372754, 'max_depth': 8}. Best is trial 2 with value: 0.6881221873721532.\n",
      "[I 2025-06-01 21:32:50,583] Trial 10 finished with value: 0.758761761898268 and parameters: {'n_estimators': 164, 'learning_rate': 0.0912316276458697, 'max_depth': 6}. Best is trial 10 with value: 0.758761761898268.\n",
      "[I 2025-06-01 21:32:56,943] Trial 11 finished with value: 0.6939860902768308 and parameters: {'n_estimators': 52, 'learning_rate': 0.09400301991634574, 'max_depth': 6}. Best is trial 10 with value: 0.758761761898268.\n",
      "[I 2025-06-01 21:33:13,373] Trial 12 finished with value: 0.7618982681030956 and parameters: {'n_estimators': 174, 'learning_rate': 0.0966620271502874, 'max_depth': 6}. Best is trial 12 with value: 0.7618982681030956.\n",
      "[I 2025-06-01 21:34:15,221] Trial 13 finished with value: 0.7222146461202782 and parameters: {'n_estimators': 186, 'learning_rate': 0.025671520913666233, 'max_depth': 10}. Best is trial 12 with value: 0.7618982681030956.\n",
      "[I 2025-06-01 21:34:27,929] Trial 14 finished with value: 0.7471703259239056 and parameters: {'n_estimators': 149, 'learning_rate': 0.09996608217476681, 'max_depth': 5}. Best is trial 12 with value: 0.7618982681030956.\n",
      "[I 2025-06-01 21:35:14,190] Trial 15 finished with value: 0.6892131460520933 and parameters: {'n_estimators': 222, 'learning_rate': 0.017905804176904967, 'max_depth': 7}. Best is trial 12 with value: 0.7618982681030956.\n",
      "[I 2025-06-01 21:35:25,639] Trial 16 finished with value: 0.5732987863084685 and parameters: {'n_estimators': 216, 'learning_rate': 0.0052197739406561715, 'max_depth': 3}. Best is trial 12 with value: 0.7618982681030956.\n",
      "[I 2025-06-01 21:35:40,614] Trial 17 finished with value: 0.6804854766125733 and parameters: {'n_estimators': 126, 'learning_rate': 0.03847966461022156, 'max_depth': 5}. Best is trial 12 with value: 0.7618982681030956.\n",
      "[I 2025-06-01 21:36:28,744] Trial 18 finished with value: 0.7602618300831856 and parameters: {'n_estimators': 213, 'learning_rate': 0.05458077278932753, 'max_depth': 8}. Best is trial 12 with value: 0.7618982681030956.\n",
      "[I 2025-06-01 21:37:34,258] Trial 19 finished with value: 0.6870312286922133 and parameters: {'n_estimators': 216, 'learning_rate': 0.014765975537065915, 'max_depth': 8}. Best is trial 12 with value: 0.7618982681030956.\n",
      "[I 2025-06-01 21:38:52,385] Trial 20 finished with value: 0.765852993317878 and parameters: {'n_estimators': 256, 'learning_rate': 0.042124677525737925, 'max_depth': 10}. Best is trial 20 with value: 0.765852993317878.\n",
      "[I 2025-06-01 21:40:21,407] Trial 21 finished with value: 0.7598527205782081 and parameters: {'n_estimators': 258, 'learning_rate': 0.03576365732917717, 'max_depth': 10}. Best is trial 20 with value: 0.765852993317878.\n",
      "[I 2025-06-01 21:41:28,968] Trial 22 finished with value: 0.7703531978726306 and parameters: {'n_estimators': 256, 'learning_rate': 0.05381964324325725, 'max_depth': 9}. Best is trial 22 with value: 0.7703531978726306.\n",
      "[I 2025-06-01 21:43:04,666] Trial 23 finished with value: 0.7302604663848357 and parameters: {'n_estimators': 263, 'learning_rate': 0.023076034388802215, 'max_depth': 9}. Best is trial 22 with value: 0.7703531978726306.\n",
      "[I 2025-06-01 21:44:45,184] Trial 24 finished with value: 0.6712123278330833 and parameters: {'n_estimators': 241, 'learning_rate': 0.008285302957671924, 'max_depth': 9}. Best is trial 22 with value: 0.7703531978726306.\n",
      "[I 2025-06-01 21:46:05,842] Trial 25 finished with value: 0.7789444974771581 and parameters: {'n_estimators': 278, 'learning_rate': 0.060355881024008046, 'max_depth': 10}. Best is trial 25 with value: 0.7789444974771581.\n",
      "[I 2025-06-01 21:48:17,945] Trial 26 finished with value: 0.6589390426837584 and parameters: {'n_estimators': 281, 'learning_rate': 0.004376067414787625, 'max_depth': 10}. Best is trial 25 with value: 0.7789444974771581.\n",
      "[I 2025-06-01 21:49:27,401] Trial 27 finished with value: 0.7758079912723306 and parameters: {'n_estimators': 276, 'learning_rate': 0.05437599171336345, 'max_depth': 10}. Best is trial 25 with value: 0.7789444974771581.\n",
      "[I 2025-06-01 21:50:28,395] Trial 28 finished with value: 0.774035183417428 and parameters: {'n_estimators': 276, 'learning_rate': 0.056259024355619164, 'max_depth': 9}. Best is trial 25 with value: 0.7789444974771581.\n",
      "[I 2025-06-01 21:52:28,042] Trial 29 finished with value: 0.7081685531160508 and parameters: {'n_estimators': 294, 'learning_rate': 0.01287817178012905, 'max_depth': 10}. Best is trial 25 with value: 0.7789444974771581.\n",
      "\u001b[31m2025/06/01 21:53:35 WARNING mlflow.models.model: Model logged without a signature and input example. Please set `input_example` parameter when logging the model to auto infer the model signature.\u001b[0m\n"
     ]
    }
   ],
   "source": [
    "import mlflow.sklearn\n",
    "\n",
    "\n",
    "df['category'] = df['category'].map({-1: 2, 0: 0, 1: 1})\n",
    "\n",
    "df = df.dropna(subset=['category'])\n",
    "\n",
    "ngram_range = (1, 3)\n",
    "max_features = 1000\n",
    "\n",
    "X_train, X_test, y_train, y_test = train_test_split(df['clean_comment'], df['category'], test_size=0.2, random_state=42, stratify=df['category'])\n",
    "\n",
    "vectorizer = TfidfVectorizer(ngram_range=ngram_range, max_features=max_features)\n",
    "X_train_vec = vectorizer.fit_transform(X_train)\n",
    "X_test_vec = vectorizer.transform(X_test)\n",
    "\n",
    "smote = SMOTE(random_state=42)\n",
    "X_train_vec, y_train = smote.fit_resample(X_train_vec, y_train)\n",
    "\n",
    "def log_mlflow(model_name, model, X_train, X_test, y_train, y_test):\n",
    "    with mlflow.start_run() as run:\n",
    "        mlflow.set_tag('mlflow.runName', f\"{model_name}_SMOTE_TFIDF_Trigrams\")\n",
    "        mlflow.set_tag('experiment_type', 'algorithm_comparison')\n",
    "\n",
    "        mlflow.log_param('algorithm_name', model_name)\n",
    "\n",
    "        model.fit(X_train, y_train)\n",
    "        y_pred = model.predict(X_test)\n",
    "\n",
    "        accuracy = accuracy_score(y_test, y_pred)\n",
    "        mlflow.log_metric(\"accuracy\", accuracy)\n",
    "\n",
    "        classification_rep = classification_report(y_test, y_pred, output_dict=True)\n",
    "        for label, metrics in classification_rep.items():\n",
    "            if isinstance(metrics, dict):\n",
    "                for metric, value in metrics.items():\n",
    "                    mlflow.log_metric(f\"{label}_{metric}\", value)\n",
    "\n",
    "        mlflow.sklearn.log_model(model, f\"{model_name}_model\")\n",
    "\n",
    "def objective_xgboost(trial):\n",
    "    n_estimators = trial.suggest_int('n_estimators', 50, 300)\n",
    "    learning_rate = trial.suggest_float('learning_rate', 1e-4, 1e-1, log=True)\n",
    "    max_depth = trial.suggest_int('max_depth', 3, 10)\n",
    "\n",
    "    model = XGBClassifier(\n",
    "        n_estimators=n_estimators,\n",
    "        learning_rate=learning_rate,\n",
    "        max_depth=max_depth,\n",
    "        random_state=42\n",
    "    )\n",
    "    return accuracy_score(y_test, model.fit(X_train_vec, y_train).predict(X_test_vec))\n",
    "\n",
    "\n",
    "def run_optuna_experiment():\n",
    "    study = optuna.create_study(direction='maximize')\n",
    "    study.optimize(objective_xgboost, n_trials=30)\n",
    "\n",
    "    best_params = study.best_params\n",
    "    best_model = XGBClassifier(n_estimators=best_params['n_estimators'],\n",
    "                              learning_rate=best_params['learning_rate'],\n",
    "                              max_depth=best_params['max_depth'],\n",
    "                              random_state=42)\n",
    "    \n",
    "    log_mlflow('XGBoost', best_model, X_train_vec, X_test_vec, y_train, y_test)\n",
    "\n",
    "run_optuna_experiment()\n",
    "    \n",
    "\n",
    "    \n",
    "\n",
    "\n"
   ]
  },
  {
   "cell_type": "code",
   "execution_count": null,
   "metadata": {},
   "outputs": [],
   "source": []
  }
 ],
 "metadata": {
  "kernelspec": {
   "display_name": "venv-sentiment",
   "language": "python",
   "name": "python3"
  },
  "language_info": {
   "codemirror_mode": {
    "name": "ipython",
    "version": 3
   },
   "file_extension": ".py",
   "mimetype": "text/x-python",
   "name": "python",
   "nbconvert_exporter": "python",
   "pygments_lexer": "ipython3",
   "version": "3.11.4"
  }
 },
 "nbformat": 4,
 "nbformat_minor": 2
}
