{
 "cells": [
  {
   "cell_type": "code",
   "execution_count": 1,
   "metadata": {},
   "outputs": [
    {
     "name": "stderr",
     "output_type": "stream",
     "text": [
      "/Users/mustainbillah/Projects/sentiment-analysis/venv-sentiment/lib/python3.11/site-packages/tqdm/auto.py:21: TqdmWarning: IProgress not found. Please update jupyter and ipywidgets. See https://ipywidgets.readthedocs.io/en/stable/user_install.html\n",
      "  from .autonotebook import tqdm as notebook_tqdm\n"
     ]
    }
   ],
   "source": [
    "import mlflow\n",
    "import mlflow.sklearn\n",
    "import pandas as pd\n",
    "from sklearn.feature_extraction.text import TfidfVectorizer\n",
    "from sklearn.model_selection import train_test_split\n",
    "from sklearn.linear_model import LogisticRegression\n",
    "from sklearn.metrics import accuracy_score, classification_report\n",
    "from imblearn.over_sampling import SMOTE\n",
    "import optuna\n",
    "\n"
   ]
  },
  {
   "cell_type": "code",
   "execution_count": 2,
   "metadata": {},
   "outputs": [
    {
     "data": {
      "text/plain": [
       "<Experiment: artifact_location='file:///Users/mustainbillah/Projects/sentiment-analysis/mlruns/658432777505770578', creation_time=1748791728665, experiment_id='658432777505770578', last_update_time=1748791728665, lifecycle_stage='active', name='04_ML_Algorithm_Comparison_with_HPT', tags={}>"
      ]
     },
     "execution_count": 2,
     "metadata": {},
     "output_type": "execute_result"
    }
   ],
   "source": [
    "# Set the tracking URI to the local mlruns directory\n",
    "mlflow.set_tracking_uri(\"file:///Users/mustainbillah/Projects/sentiment-analysis/mlruns\")\n",
    "\n",
    "# Create and set the experiment\n",
    "experiment_name = \"04_ML_Algorithm_Comparison_with_HPT\"\n",
    "try:\n",
    "    experiment_id = mlflow.create_experiment(experiment_name)\n",
    "except:\n",
    "    experiment_id = mlflow.get_experiment_by_name(experiment_name).experiment_id\n",
    "mlflow.set_experiment(experiment_name)"
   ]
  },
  {
   "cell_type": "code",
   "execution_count": 3,
   "metadata": {},
   "outputs": [
    {
     "data": {
      "text/plain": [
       "(36662, 2)"
      ]
     },
     "execution_count": 3,
     "metadata": {},
     "output_type": "execute_result"
    }
   ],
   "source": [
    "df = pd.read_csv('reddit_preprocessing.csv').dropna(subset=['clean_comment'])\n",
    "df.shape"
   ]
  },
  {
   "cell_type": "code",
   "execution_count": 4,
   "metadata": {},
   "outputs": [
    {
     "name": "stderr",
     "output_type": "stream",
     "text": [
      "[I 2025-06-02 08:21:42,553] A new study created in memory with name: no-name-498837f0-0eef-49a5-85ee-6bfcf6227762\n",
      "[I 2025-06-02 08:21:42,599] Trial 0 finished with value: 0.3333333333333333 and parameters: {'C': 0.0033107766929837655, 'penalty': 'l1'}. Best is trial 0 with value: 0.3333333333333333.\n",
      "[I 2025-06-02 08:21:42,788] Trial 1 finished with value: 0.7649545550623547 and parameters: {'C': 0.8807477201540802, 'penalty': 'l2'}. Best is trial 1 with value: 0.7649545550623547.\n",
      "[I 2025-06-02 08:21:42,903] Trial 2 finished with value: 0.7789050940604524 and parameters: {'C': 0.47120203674965433, 'penalty': 'l1'}. Best is trial 2 with value: 0.7789050940604524.\n",
      "[I 2025-06-02 08:21:43,136] Trial 3 finished with value: 0.7711900232508984 and parameters: {'C': 4.081449616077461, 'penalty': 'l2'}. Best is trial 2 with value: 0.7789050940604524.\n",
      "[I 2025-06-02 08:21:43,329] Trial 4 finished with value: 0.7653772986683577 and parameters: {'C': 0.9112618915299653, 'penalty': 'l2'}. Best is trial 2 with value: 0.7789050940604524.\n",
      "[I 2025-06-02 08:21:43,502] Trial 5 finished with value: 0.765271612766857 and parameters: {'C': 0.7767172867103882, 'penalty': 'l2'}. Best is trial 2 with value: 0.7789050940604524.\n",
      "[I 2025-06-02 08:21:43,546] Trial 6 finished with value: 0.6433100824350032 and parameters: {'C': 0.0005016341606378502, 'penalty': 'l2'}. Best is trial 2 with value: 0.7789050940604524.\n",
      "[I 2025-06-02 08:21:43,771] Trial 7 finished with value: 0.7704502219403931 and parameters: {'C': 3.403183518994941, 'penalty': 'l2'}. Best is trial 2 with value: 0.7789050940604524.\n",
      "[I 2025-06-02 08:21:43,824] Trial 8 finished with value: 0.635277953920947 and parameters: {'C': 0.028494755408666556, 'penalty': 'l1'}. Best is trial 2 with value: 0.7789050940604524.\n",
      "[I 2025-06-02 08:21:44,017] Trial 9 finished with value: 0.7671739589938702 and parameters: {'C': 1.2289312510634038, 'penalty': 'l2'}. Best is trial 2 with value: 0.7789050940604524.\n",
      "[I 2025-06-02 08:21:44,087] Trial 10 finished with value: 0.6609596279856267 and parameters: {'C': 0.036504141948822705, 'penalty': 'l1'}. Best is trial 2 with value: 0.7789050940604524.\n",
      "[I 2025-06-02 08:21:44,258] Trial 11 finished with value: 0.7808074402874656 and parameters: {'C': 9.815668298052517, 'penalty': 'l1'}. Best is trial 11 with value: 0.7808074402874656.\n",
      "[I 2025-06-02 08:21:44,336] Trial 12 finished with value: 0.7419150285351934 and parameters: {'C': 0.10434778382658585, 'penalty': 'l1'}. Best is trial 11 with value: 0.7808074402874656.\n",
      "[I 2025-06-02 08:21:44,416] Trial 13 finished with value: 0.7517438173747623 and parameters: {'C': 0.1335750479875593, 'penalty': 'l1'}. Best is trial 11 with value: 0.7808074402874656.\n",
      "[I 2025-06-02 08:21:44,576] Trial 14 finished with value: 0.7808074402874656 and parameters: {'C': 9.538519879051295, 'penalty': 'l1'}. Best is trial 11 with value: 0.7808074402874656.\n",
      "[I 2025-06-02 08:21:44,745] Trial 15 finished with value: 0.7805960684844642 and parameters: {'C': 8.242954907029901, 'penalty': 'l1'}. Best is trial 11 with value: 0.7808074402874656.\n",
      "[I 2025-06-02 08:21:44,915] Trial 16 finished with value: 0.7808074402874656 and parameters: {'C': 9.71826900786773, 'penalty': 'l1'}. Best is trial 11 with value: 0.7808074402874656.\n",
      "[I 2025-06-02 08:21:44,946] Trial 17 finished with value: 0.3333333333333333 and parameters: {'C': 0.0034548306700087033, 'penalty': 'l1'}. Best is trial 11 with value: 0.7808074402874656.\n",
      "[I 2025-06-02 08:21:44,968] Trial 18 finished with value: 0.3333333333333333 and parameters: {'C': 0.0001288352274294182, 'penalty': 'l1'}. Best is trial 11 with value: 0.7808074402874656.\n",
      "[I 2025-06-02 08:21:45,114] Trial 19 finished with value: 0.7799619530754597 and parameters: {'C': 2.346845665166772, 'penalty': 'l1'}. Best is trial 11 with value: 0.7808074402874656.\n",
      "[I 2025-06-02 08:21:45,208] Trial 20 finished with value: 0.7669625871908687 and parameters: {'C': 0.24008638252785963, 'penalty': 'l1'}. Best is trial 11 with value: 0.7808074402874656.\n",
      "[I 2025-06-02 08:21:45,374] Trial 21 finished with value: 0.7808074402874656 and parameters: {'C': 9.184988620025647, 'penalty': 'l1'}. Best is trial 11 with value: 0.7808074402874656.\n",
      "[I 2025-06-02 08:21:45,523] Trial 22 finished with value: 0.779433523567956 and parameters: {'C': 3.555727375898325, 'penalty': 'l1'}. Best is trial 11 with value: 0.7808074402874656.\n",
      "[I 2025-06-02 08:21:45,681] Trial 23 finished with value: 0.7807017543859649 and parameters: {'C': 7.939542908978776, 'penalty': 'l1'}. Best is trial 11 with value: 0.7808074402874656.\n",
      "[I 2025-06-02 08:21:45,823] Trial 24 finished with value: 0.7787994081589515 and parameters: {'C': 2.063197891299976, 'penalty': 'l1'}. Best is trial 11 with value: 0.7808074402874656.\n",
      "[I 2025-06-02 08:21:45,986] Trial 25 finished with value: 0.7807017543859649 and parameters: {'C': 8.612245663973896, 'penalty': 'l1'}. Best is trial 11 with value: 0.7808074402874656.\n",
      "[I 2025-06-02 08:21:46,077] Trial 26 finished with value: 0.7663284717818643 and parameters: {'C': 0.22434255683004217, 'penalty': 'l1'}. Best is trial 11 with value: 0.7808074402874656.\n",
      "[I 2025-06-02 08:21:46,136] Trial 27 finished with value: 0.6519763263580638 and parameters: {'C': 0.03330625376458592, 'penalty': 'l1'}. Best is trial 11 with value: 0.7808074402874656.\n",
      "[I 2025-06-02 08:21:46,269] Trial 28 finished with value: 0.7786937222574508 and parameters: {'C': 1.5911503196025603, 'penalty': 'l1'}. Best is trial 11 with value: 0.7808074402874656.\n",
      "[I 2025-06-02 08:21:46,315] Trial 29 finished with value: 0.5655252589304587 and parameters: {'C': 0.013606841123988727, 'penalty': 'l1'}. Best is trial 11 with value: 0.7808074402874656.\n",
      "\u001b[31m2025/06/02 08:21:49 WARNING mlflow.models.model: Model logged without a signature and input example. Please set `input_example` parameter when logging the model to auto infer the model signature.\u001b[0m\n"
     ]
    }
   ],
   "source": [
    "# Step 1: (Optional) Remapping - skipped since not strictly needed for Logistic Regression\n",
    "\n",
    "# Step 2: Remove rows where the target labels (category) are NaN\n",
    "df = df.dropna(subset=['category'])\n",
    "\n",
    "# Step 3: TF-IDF vectorizer setup\n",
    "ngram_range = (1, 3)  # Trigram\n",
    "max_features = 1000  # Set max_features to 1000\n",
    "vectorizer = TfidfVectorizer(ngram_range=ngram_range, max_features=max_features)\n",
    "X = vectorizer.fit_transform(df['clean_comment'])\n",
    "y = df['category']\n",
    "\n",
    "# Step 4: Apply SMOTE to handle class imbalance\n",
    "smote = SMOTE(random_state=42)\n",
    "X_resampled, y_resampled = smote.fit_resample(X, y)\n",
    "\n",
    "# Step 5: Train-test split\n",
    "X_train, X_test, y_train, y_test = train_test_split(X_resampled, y_resampled, test_size=0.2, random_state=42, stratify=y_resampled)\n",
    "\n",
    "# Function to log results in MLflow\n",
    "def log_mlflow(model_name, model, X_train, X_test, y_train, y_test):\n",
    "    with mlflow.start_run():\n",
    "        # Log model type\n",
    "        mlflow.set_tag(\"mlflow.runName\", f\"{model_name}_SMOTE_TFIDF_Trigrams\")\n",
    "        mlflow.set_tag(\"experiment_type\", \"algorithm_comparison\")\n",
    "\n",
    "        # Log algorithm name as a parameter\n",
    "        mlflow.log_param(\"algo_name\", model_name)\n",
    "\n",
    "        # Train model\n",
    "        model.fit(X_train, y_train)\n",
    "        y_pred = model.predict(X_test)\n",
    "\n",
    "        # Log accuracy\n",
    "        accuracy = accuracy_score(y_test, y_pred)\n",
    "        mlflow.log_metric(\"accuracy\", accuracy)\n",
    "\n",
    "        # Log classification report\n",
    "        classification_rep = classification_report(y_test, y_pred, output_dict=True)\n",
    "        for label, metrics in classification_rep.items():\n",
    "            if isinstance(metrics, dict):\n",
    "                for metric, value in metrics.items():\n",
    "                    mlflow.log_metric(f\"{label}_{metric}\", value)\n",
    "\n",
    "        # Log the model\n",
    "        mlflow.sklearn.log_model(model, f\"{model_name}_model\")\n",
    "\n",
    "\n",
    "# Step 6: Optuna objective function for Logistic Regression\n",
    "def objective_logreg(trial):\n",
    "    C = trial.suggest_float('C', 1e-4, 10.0, log=True)\n",
    "    penalty = trial.suggest_categorical('penalty', ['l1', 'l2'])\n",
    "\n",
    "    # LogisticRegression model setup with balanced class weight\n",
    "    model = LogisticRegression(C=C, penalty=penalty, solver='liblinear', random_state=42)\n",
    "    return accuracy_score(y_test, model.fit(X_train, y_train).predict(X_test))\n",
    "\n",
    "\n",
    "# Step 7: Run Optuna for Logistic Regression, log the best model only\n",
    "def run_optuna_experiment():\n",
    "    study = optuna.create_study(direction=\"maximize\")\n",
    "    study.optimize(objective_logreg, n_trials=30)\n",
    "\n",
    "    # Get the best parameters and log only the best model\n",
    "    best_params = study.best_params\n",
    "    best_model = LogisticRegression(C=best_params['C'], penalty=best_params['penalty'], solver='liblinear', random_state=42)\n",
    "\n",
    "    # Log the best model with MLflow, passing the algo_name as \"LogisticRegression\"\n",
    "    log_mlflow(\"LogisticRegression\", best_model, X_train, X_test, y_train, y_test)\n",
    "\n",
    "# Run the experiment for Logistic Regression\n",
    "run_optuna_experiment()\n"
   ]
  },
  {
   "cell_type": "code",
   "execution_count": null,
   "metadata": {},
   "outputs": [],
   "source": []
  }
 ],
 "metadata": {
  "kernelspec": {
   "display_name": "venv-sentiment",
   "language": "python",
   "name": "python3"
  },
  "language_info": {
   "codemirror_mode": {
    "name": "ipython",
    "version": 3
   },
   "file_extension": ".py",
   "mimetype": "text/x-python",
   "name": "python",
   "nbconvert_exporter": "python",
   "pygments_lexer": "ipython3",
   "version": "3.11.4"
  }
 },
 "nbformat": 4,
 "nbformat_minor": 2
}
