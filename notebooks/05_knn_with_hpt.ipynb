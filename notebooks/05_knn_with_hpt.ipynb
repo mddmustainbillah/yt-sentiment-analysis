{
 "cells": [
  {
   "cell_type": "code",
   "execution_count": 1,
   "metadata": {},
   "outputs": [
    {
     "name": "stderr",
     "output_type": "stream",
     "text": [
      "/Users/mustainbillah/Projects/sentiment-analysis/venv-sentiment/lib/python3.11/site-packages/tqdm/auto.py:21: TqdmWarning: IProgress not found. Please update jupyter and ipywidgets. See https://ipywidgets.readthedocs.io/en/stable/user_install.html\n",
      "  from .autonotebook import tqdm as notebook_tqdm\n"
     ]
    }
   ],
   "source": [
    "import pandas as pd\n",
    "from sklearn.feature_extraction.text import TfidfVectorizer\n",
    "from sklearn.model_selection import train_test_split\n",
    "from sklearn.neighbors import KNeighborsClassifier\n",
    "from sklearn.metrics import accuracy_score, classification_report\n",
    "from imblearn.over_sampling import SMOTE\n",
    "import mlflow\n",
    "import mlflow.sklearn\n",
    "import optuna\n"
   ]
  },
  {
   "cell_type": "code",
   "execution_count": 2,
   "metadata": {},
   "outputs": [
    {
     "data": {
      "text/plain": [
       "<Experiment: artifact_location='file:///Users/mustainbillah/Projects/sentiment-analysis/mlruns/658432777505770578', creation_time=1748791728665, experiment_id='658432777505770578', last_update_time=1748791728665, lifecycle_stage='active', name='04_ML_Algorithm_Comparison_with_HPT', tags={}>"
      ]
     },
     "execution_count": 2,
     "metadata": {},
     "output_type": "execute_result"
    }
   ],
   "source": [
    "# Set the tracking URI to the local mlruns directory\n",
    "mlflow.set_tracking_uri(\"file:///Users/mustainbillah/Projects/sentiment-analysis/mlruns\")\n",
    "\n",
    "# Create and set the experiment\n",
    "experiment_name = \"04_ML_Algorithm_Comparison_with_HPT\"\n",
    "try:\n",
    "    experiment_id = mlflow.create_experiment(experiment_name)\n",
    "except:\n",
    "    experiment_id = mlflow.get_experiment_by_name(experiment_name).experiment_id\n",
    "mlflow.set_experiment(experiment_name)"
   ]
  },
  {
   "cell_type": "code",
   "execution_count": 3,
   "metadata": {},
   "outputs": [
    {
     "data": {
      "text/plain": [
       "(36662, 2)"
      ]
     },
     "execution_count": 3,
     "metadata": {},
     "output_type": "execute_result"
    }
   ],
   "source": [
    "df = pd.read_csv('reddit_preprocessing.csv').dropna(subset=['clean_comment'])\n",
    "df.shape"
   ]
  },
  {
   "cell_type": "code",
   "execution_count": 4,
   "metadata": {},
   "outputs": [
    {
     "name": "stderr",
     "output_type": "stream",
     "text": [
      "[I 2025-06-02 08:27:33,967] A new study created in memory with name: no-name-933a6d64-9d72-4395-bd40-6b2f5675b529\n",
      "[I 2025-06-02 08:27:39,543] Trial 0 finished with value: 0.5527372648488692 and parameters: {'n_neighbors': 16, 'p': 2}. Best is trial 0 with value: 0.5527372648488692.\n",
      "[I 2025-06-02 08:27:44,988] Trial 1 finished with value: 0.5826463749735785 and parameters: {'n_neighbors': 4, 'p': 2}. Best is trial 1 with value: 0.5826463749735785.\n",
      "[I 2025-06-02 08:27:47,439] Trial 2 finished with value: 0.3925174381737476 and parameters: {'n_neighbors': 8, 'p': 1}. Best is trial 1 with value: 0.5826463749735785.\n",
      "[I 2025-06-02 08:27:49,852] Trial 3 finished with value: 0.380997674910167 and parameters: {'n_neighbors': 19, 'p': 1}. Best is trial 1 with value: 0.5826463749735785.\n",
      "[I 2025-06-02 08:27:56,706] Trial 4 finished with value: 0.5262101035721835 and parameters: {'n_neighbors': 28, 'p': 2}. Best is trial 1 with value: 0.5826463749735785.\n",
      "[I 2025-06-02 08:28:02,602] Trial 5 finished with value: 0.5763052208835341 and parameters: {'n_neighbors': 7, 'p': 2}. Best is trial 1 with value: 0.5826463749735785.\n",
      "[I 2025-06-02 08:28:04,922] Trial 6 finished with value: 0.380997674910167 and parameters: {'n_neighbors': 19, 'p': 1}. Best is trial 1 with value: 0.5826463749735785.\n",
      "[I 2025-06-02 08:28:07,301] Trial 7 finished with value: 0.3839568801521877 and parameters: {'n_neighbors': 15, 'p': 1}. Best is trial 1 with value: 0.5826463749735785.\n",
      "[I 2025-06-02 08:28:09,643] Trial 8 finished with value: 0.3818431621221729 and parameters: {'n_neighbors': 18, 'p': 1}. Best is trial 1 with value: 0.5826463749735785.\n",
      "[I 2025-06-02 08:28:15,819] Trial 9 finished with value: 0.5217712957091524 and parameters: {'n_neighbors': 30, 'p': 2}. Best is trial 1 with value: 0.5826463749735785.\n",
      "[I 2025-06-02 08:28:19,170] Trial 10 finished with value: 0.5879306700486155 and parameters: {'n_neighbors': 3, 'p': 2}. Best is trial 10 with value: 0.5879306700486155.\n",
      "[I 2025-06-02 08:28:22,679] Trial 11 finished with value: 0.5879306700486155 and parameters: {'n_neighbors': 3, 'p': 2}. Best is trial 10 with value: 0.5879306700486155.\n",
      "[I 2025-06-02 08:28:26,451] Trial 12 finished with value: 0.5879306700486155 and parameters: {'n_neighbors': 3, 'p': 2}. Best is trial 10 with value: 0.5879306700486155.\n",
      "[I 2025-06-02 08:28:32,151] Trial 13 finished with value: 0.5643627140139506 and parameters: {'n_neighbors': 11, 'p': 2}. Best is trial 10 with value: 0.5879306700486155.\n",
      "[I 2025-06-02 08:28:37,705] Trial 14 finished with value: 0.5643627140139506 and parameters: {'n_neighbors': 11, 'p': 2}. Best is trial 10 with value: 0.5879306700486155.\n",
      "[I 2025-06-02 08:28:43,077] Trial 15 finished with value: 0.5326569435637286 and parameters: {'n_neighbors': 25, 'p': 2}. Best is trial 10 with value: 0.5879306700486155.\n",
      "[I 2025-06-02 08:28:48,432] Trial 16 finished with value: 0.575142675967026 and parameters: {'n_neighbors': 6, 'p': 2}. Best is trial 10 with value: 0.5879306700486155.\n",
      "[I 2025-06-02 08:28:54,183] Trial 17 finished with value: 0.5643627140139506 and parameters: {'n_neighbors': 11, 'p': 2}. Best is trial 10 with value: 0.5879306700486155.\n",
      "[I 2025-06-02 08:28:57,779] Trial 18 finished with value: 0.5879306700486155 and parameters: {'n_neighbors': 3, 'p': 2}. Best is trial 10 with value: 0.5879306700486155.\n",
      "[I 2025-06-02 08:29:03,541] Trial 19 finished with value: 0.5378355527372648 and parameters: {'n_neighbors': 23, 'p': 2}. Best is trial 10 with value: 0.5879306700486155.\n",
      "[I 2025-06-02 08:29:09,099] Trial 20 finished with value: 0.5604523356584231 and parameters: {'n_neighbors': 13, 'p': 2}. Best is trial 10 with value: 0.5879306700486155.\n",
      "[I 2025-06-02 08:29:12,532] Trial 21 finished with value: 0.5879306700486155 and parameters: {'n_neighbors': 3, 'p': 2}. Best is trial 10 with value: 0.5879306700486155.\n",
      "[I 2025-06-02 08:29:17,939] Trial 22 finished with value: 0.575142675967026 and parameters: {'n_neighbors': 6, 'p': 2}. Best is trial 10 with value: 0.5879306700486155.\n",
      "[I 2025-06-02 08:29:23,431] Trial 23 finished with value: 0.5774677658000422 and parameters: {'n_neighbors': 5, 'p': 2}. Best is trial 10 with value: 0.5879306700486155.\n",
      "[I 2025-06-02 08:29:28,949] Trial 24 finished with value: 0.5723948425280068 and parameters: {'n_neighbors': 9, 'p': 2}. Best is trial 10 with value: 0.5879306700486155.\n",
      "[I 2025-06-02 08:29:32,453] Trial 25 finished with value: 0.5879306700486155 and parameters: {'n_neighbors': 3, 'p': 2}. Best is trial 10 with value: 0.5879306700486155.\n",
      "[I 2025-06-02 08:29:34,950] Trial 26 finished with value: 0.3913548932572395 and parameters: {'n_neighbors': 9, 'p': 1}. Best is trial 10 with value: 0.5879306700486155.\n",
      "[I 2025-06-02 08:29:41,442] Trial 27 finished with value: 0.5774677658000422 and parameters: {'n_neighbors': 5, 'p': 2}. Best is trial 10 with value: 0.5879306700486155.\n",
      "[I 2025-06-02 08:29:47,013] Trial 28 finished with value: 0.5736630733460156 and parameters: {'n_neighbors': 8, 'p': 2}. Best is trial 10 with value: 0.5879306700486155.\n",
      "[I 2025-06-02 08:29:52,602] Trial 29 finished with value: 0.557281758613401 and parameters: {'n_neighbors': 15, 'p': 2}. Best is trial 10 with value: 0.5879306700486155.\n",
      "\u001b[31m2025/06/02 08:29:59 WARNING mlflow.models.model: Model logged without a signature and input example. Please set `input_example` parameter when logging the model to auto infer the model signature.\u001b[0m\n"
     ]
    }
   ],
   "source": [
    "# Step 1: (Optional) Remapping - skipped since not strictly needed for KNN\n",
    "\n",
    "# Step 2: Remove rows where the target labels (category) are NaN\n",
    "df = df.dropna(subset=['category'])\n",
    "\n",
    "# Step 3: TF-IDF vectorizer setup\n",
    "ngram_range = (1, 3)  # Trigram\n",
    "max_features = 1000  # Set max_features to 1000\n",
    "vectorizer = TfidfVectorizer(ngram_range=ngram_range, max_features=max_features)\n",
    "X = vectorizer.fit_transform(df['clean_comment'])\n",
    "y = df['category']\n",
    "\n",
    "# Step 4: Apply SMOTE to handle class imbalance\n",
    "smote = SMOTE(random_state=42)\n",
    "X_resampled, y_resampled = smote.fit_resample(X, y)\n",
    "\n",
    "# Step 5: Train-test split\n",
    "X_train, X_test, y_train, y_test = train_test_split(X_resampled, y_resampled, test_size=0.2, random_state=42, stratify=y_resampled)\n",
    "\n",
    "# Function to log results in MLflow\n",
    "def log_mlflow(model_name, model, X_train, X_test, y_train, y_test):\n",
    "    with mlflow.start_run():\n",
    "        # Log model type\n",
    "        mlflow.set_tag(\"mlflow.runName\", f\"{model_name}_SMOTE_TFIDF_Trigrams\")\n",
    "        mlflow.set_tag(\"experiment_type\", \"algorithm_comparison\")\n",
    "\n",
    "        # Log algorithm name as a parameter\n",
    "        mlflow.log_param(\"algo_name\", model_name)\n",
    "\n",
    "        # Train model\n",
    "        model.fit(X_train, y_train)\n",
    "        y_pred = model.predict(X_test)\n",
    "\n",
    "        # Log accuracy\n",
    "        accuracy = accuracy_score(y_test, y_pred)\n",
    "        mlflow.log_metric(\"accuracy\", accuracy)\n",
    "\n",
    "        # Log classification report\n",
    "        classification_rep = classification_report(y_test, y_pred, output_dict=True)\n",
    "        for label, metrics in classification_rep.items():\n",
    "            if isinstance(metrics, dict):\n",
    "                for metric, value in metrics.items():\n",
    "                    mlflow.log_metric(f\"{label}_{metric}\", value)\n",
    "\n",
    "        # Log the model\n",
    "        mlflow.sklearn.log_model(model, f\"{model_name}_model\")\n",
    "\n",
    "\n",
    "# Step 6: Optuna objective function for KNN\n",
    "def objective_knn(trial):\n",
    "    n_neighbors = trial.suggest_int('n_neighbors', 3, 30)  # Tuning the number of neighbors\n",
    "    p = trial.suggest_categorical('p', [1, 2])  # Tuning the distance metric (1 for Manhattan, 2 for Euclidean)\n",
    "\n",
    "    # KNeighborsClassifier setup\n",
    "    model = KNeighborsClassifier(n_neighbors=n_neighbors, p=p)\n",
    "    return accuracy_score(y_test, model.fit(X_train, y_train).predict(X_test))\n",
    "\n",
    "\n",
    "# Step 7: Run Optuna for KNN, log the best model only\n",
    "def run_optuna_experiment():\n",
    "    study = optuna.create_study(direction=\"maximize\")\n",
    "    study.optimize(objective_knn, n_trials=30)\n",
    "\n",
    "    # Get the best parameters and log only the best model\n",
    "    best_params = study.best_params\n",
    "    best_model = KNeighborsClassifier(n_neighbors=best_params['n_neighbors'], p=best_params['p'])\n",
    "\n",
    "    # Log the best model with MLflow, passing the algo_name as \"KNN\"\n",
    "    log_mlflow(\"KNN\", best_model, X_train, X_test, y_train, y_test)\n",
    "\n",
    "# Run the experiment for KNN\n",
    "run_optuna_experiment()\n"
   ]
  },
  {
   "cell_type": "code",
   "execution_count": null,
   "metadata": {},
   "outputs": [],
   "source": []
  }
 ],
 "metadata": {
  "kernelspec": {
   "display_name": "venv-sentiment",
   "language": "python",
   "name": "python3"
  },
  "language_info": {
   "codemirror_mode": {
    "name": "ipython",
    "version": 3
   },
   "file_extension": ".py",
   "mimetype": "text/x-python",
   "name": "python",
   "nbconvert_exporter": "python",
   "pygments_lexer": "ipython3",
   "version": "3.11.4"
  }
 },
 "nbformat": 4,
 "nbformat_minor": 2
}
