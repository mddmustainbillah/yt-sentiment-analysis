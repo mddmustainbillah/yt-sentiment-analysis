{
 "cells": [
  {
   "cell_type": "code",
   "execution_count": 1,
   "metadata": {},
   "outputs": [
    {
     "name": "stderr",
     "output_type": "stream",
     "text": [
      "/Users/mustainbillah/Projects/sentiment-analysis/venv-sentiment/lib/python3.11/site-packages/tqdm/auto.py:21: TqdmWarning: IProgress not found. Please update jupyter and ipywidgets. See https://ipywidgets.readthedocs.io/en/stable/user_install.html\n",
      "  from .autonotebook import tqdm as notebook_tqdm\n"
     ]
    }
   ],
   "source": [
    "import mlflow\n",
    "import pandas as pd\n",
    "from sklearn.feature_extraction.text import TfidfVectorizer\n",
    "from sklearn.model_selection import train_test_split\n",
    "from sklearn.metrics import accuracy_score, classification_report\n",
    "from sklearn.svm import SVC\n",
    "from imblearn.over_sampling import SMOTE\n",
    "import mlflow\n",
    "import mlflow.sklearn\n",
    "import optuna"
   ]
  },
  {
   "cell_type": "code",
   "execution_count": 2,
   "metadata": {},
   "outputs": [
    {
     "data": {
      "text/plain": [
       "<Experiment: artifact_location='file:///Users/mustainbillah/Projects/sentiment-analysis/mlruns/658432777505770578', creation_time=1748791728665, experiment_id='658432777505770578', last_update_time=1748791728665, lifecycle_stage='active', name='04_ML_Algorithm_Comparison_with_HPT', tags={}>"
      ]
     },
     "execution_count": 2,
     "metadata": {},
     "output_type": "execute_result"
    }
   ],
   "source": [
    "# Set the tracking URI to the local mlruns directory\n",
    "mlflow.set_tracking_uri(\"file:///Users/mustainbillah/Projects/sentiment-analysis/mlruns\")\n",
    "\n",
    "# Create and set the experiment\n",
    "experiment_name = \"04_ML_Algorithm_Comparison_with_HPT\"\n",
    "try:\n",
    "    experiment_id = mlflow.create_experiment(experiment_name)\n",
    "except:\n",
    "    experiment_id = mlflow.get_experiment_by_name(experiment_name).experiment_id\n",
    "mlflow.set_experiment(experiment_name)"
   ]
  },
  {
   "cell_type": "code",
   "execution_count": 3,
   "metadata": {},
   "outputs": [
    {
     "data": {
      "text/plain": [
       "(36662, 2)"
      ]
     },
     "execution_count": 3,
     "metadata": {},
     "output_type": "execute_result"
    }
   ],
   "source": [
    "df = pd.read_csv('reddit_preprocessing.csv').dropna(subset=['clean_comment'])\n",
    "df.shape"
   ]
  },
  {
   "cell_type": "code",
   "execution_count": 4,
   "metadata": {},
   "outputs": [
    {
     "name": "stderr",
     "output_type": "stream",
     "text": [
      "[I 2025-06-02 06:46:26,526] A new study created in memory with name: no-name-828f68ed-50e0-4f85-b8ec-8fc6ab13537c\n",
      "[I 2025-06-02 06:48:44,440] Trial 0 finished with value: 0.4174593109279222 and parameters: {'C': 0.007689333134012633, 'kernel': 'rbf'}. Best is trial 0 with value: 0.4174593109279222.\n",
      "[I 2025-06-02 06:51:47,419] Trial 1 finished with value: 0.7128514056224899 and parameters: {'C': 0.32793416668940323, 'kernel': 'poly'}. Best is trial 1 with value: 0.7128514056224899.\n",
      "[I 2025-06-02 06:53:46,324] Trial 2 finished with value: 0.44831959416613826 and parameters: {'C': 0.0013250623525545824, 'kernel': 'linear'}. Best is trial 1 with value: 0.7128514056224899.\n",
      "[I 2025-06-02 06:55:50,807] Trial 3 finished with value: 0.3993870217712957 and parameters: {'C': 0.0006781672117943015, 'kernel': 'rbf'}. Best is trial 1 with value: 0.7128514056224899.\n",
      "[I 2025-06-02 07:01:28,633] Trial 4 finished with value: 0.6965757767913761 and parameters: {'C': 7.079395661668597, 'kernel': 'poly'}. Best is trial 1 with value: 0.7128514056224899.\n",
      "[I 2025-06-02 07:03:22,898] Trial 5 finished with value: 0.3628196998520397 and parameters: {'C': 0.0021341193408405306, 'kernel': 'poly'}. Best is trial 1 with value: 0.7128514056224899.\n",
      "[I 2025-06-02 07:05:27,755] Trial 6 finished with value: 0.3993870217712957 and parameters: {'C': 0.001051907423879094, 'kernel': 'rbf'}. Best is trial 1 with value: 0.7128514056224899.\n",
      "[I 2025-06-02 07:07:06,528] Trial 7 finished with value: 0.7104206298879729 and parameters: {'C': 0.07450517166550219, 'kernel': 'rbf'}. Best is trial 1 with value: 0.7128514056224899.\n",
      "[I 2025-06-02 07:09:15,097] Trial 8 finished with value: 0.3993870217712957 and parameters: {'C': 0.0012178859415434003, 'kernel': 'rbf'}. Best is trial 1 with value: 0.7128514056224899.\n",
      "[I 2025-06-02 07:11:33,619] Trial 9 finished with value: 0.7766856901289368 and parameters: {'C': 9.641612667506863, 'kernel': 'linear'}. Best is trial 9 with value: 0.7766856901289368.\n",
      "[I 2025-06-02 07:13:36,358] Trial 10 finished with value: 0.7764743183259353 and parameters: {'C': 7.870322580459816, 'kernel': 'linear'}. Best is trial 9 with value: 0.7766856901289368.\n",
      "[I 2025-06-02 07:18:22,885] Trial 11 finished with value: 0.7764743183259353 and parameters: {'C': 9.277559335254976, 'kernel': 'linear'}. Best is trial 9 with value: 0.7766856901289368.\n",
      "[I 2025-06-02 07:19:33,870] Trial 12 finished with value: 0.7653772986683577 and parameters: {'C': 0.9844320815871301, 'kernel': 'linear'}. Best is trial 9 with value: 0.7766856901289368.\n",
      "[I 2025-06-02 07:21:10,637] Trial 13 finished with value: 0.7728809976749101 and parameters: {'C': 2.334864563765045, 'kernel': 'linear'}. Best is trial 9 with value: 0.7766856901289368.\n",
      "[I 2025-06-02 07:22:39,176] Trial 14 finished with value: 0.7430775734517016 and parameters: {'C': 0.14240820141897317, 'kernel': 'linear'}. Best is trial 9 with value: 0.7766856901289368.\n",
      "[I 2025-06-02 07:23:54,825] Trial 15 finished with value: 0.764426125554851 and parameters: {'C': 0.9215979217943101, 'kernel': 'linear'}. Best is trial 9 with value: 0.7766856901289368.\n",
      "[I 2025-06-02 07:25:56,947] Trial 16 finished with value: 0.44831959416613826 and parameters: {'C': 0.0001719884002921772, 'kernel': 'linear'}. Best is trial 9 with value: 0.7766856901289368.\n",
      "[I 2025-06-02 07:27:39,801] Trial 17 finished with value: 0.7730923694779116 and parameters: {'C': 3.3231879497723895, 'kernel': 'linear'}. Best is trial 9 with value: 0.7766856901289368.\n",
      "[I 2025-06-02 07:29:24,187] Trial 18 finished with value: 0.663707461424646 and parameters: {'C': 0.021147817808032585, 'kernel': 'linear'}. Best is trial 9 with value: 0.7766856901289368.\n",
      "[I 2025-06-02 07:30:36,290] Trial 19 finished with value: 0.7617839780173324 and parameters: {'C': 0.6102427074819933, 'kernel': 'linear'}. Best is trial 9 with value: 0.7766856901289368.\n",
      "[I 2025-06-02 07:36:30,722] Trial 20 finished with value: 0.6956246036778694 and parameters: {'C': 2.547488626583051, 'kernel': 'poly'}. Best is trial 9 with value: 0.7766856901289368.\n",
      "[I 2025-06-02 07:38:38,636] Trial 21 finished with value: 0.7758402029169309 and parameters: {'C': 8.256256251839181, 'kernel': 'linear'}. Best is trial 9 with value: 0.7766856901289368.\n",
      "[I 2025-06-02 07:41:02,957] Trial 22 finished with value: 0.7766856901289368 and parameters: {'C': 9.773519353512107, 'kernel': 'linear'}. Best is trial 9 with value: 0.7766856901289368.\n",
      "[I 2025-06-02 07:42:34,061] Trial 23 finished with value: 0.7727753117734094 and parameters: {'C': 2.3422616047524363, 'kernel': 'linear'}. Best is trial 9 with value: 0.7766856901289368.\n",
      "[I 2025-06-02 07:43:51,830] Trial 24 finished with value: 0.7555485098287889 and parameters: {'C': 0.2670073076593249, 'kernel': 'linear'}. Best is trial 9 with value: 0.7766856901289368.\n",
      "[I 2025-06-02 07:45:45,739] Trial 25 finished with value: 0.7744662861974213 and parameters: {'C': 4.764479649590093, 'kernel': 'linear'}. Best is trial 9 with value: 0.7766856901289368.\n",
      "[I 2025-06-02 07:47:02,785] Trial 26 finished with value: 0.7680194462058761 and parameters: {'C': 1.4003455539427896, 'kernel': 'linear'}. Best is trial 9 with value: 0.7766856901289368.\n",
      "[I 2025-06-02 07:48:38,703] Trial 27 finished with value: 0.7037624180934263 and parameters: {'C': 0.04178405251734768, 'kernel': 'linear'}. Best is trial 9 with value: 0.7766856901289368.\n",
      "[I 2025-06-02 07:51:36,036] Trial 28 finished with value: 0.7150708095540055 and parameters: {'C': 0.35278484473697364, 'kernel': 'poly'}. Best is trial 9 with value: 0.7766856901289368.\n",
      "[I 2025-06-02 07:54:02,073] Trial 29 finished with value: 0.7764743183259353 and parameters: {'C': 9.883893226132546, 'kernel': 'linear'}. Best is trial 9 with value: 0.7766856901289368.\n",
      "\u001b[31m2025/06/02 07:56:27 WARNING mlflow.models.model: Model logged without a signature and input example. Please set `input_example` parameter when logging the model to auto infer the model signature.\u001b[0m\n"
     ]
    }
   ],
   "source": [
    "# Step 1: (Optional) Remapping - skipped since not strictly needed for SVM\n",
    "\n",
    "# Step 2: Remove rows where the target labels (category) are NaN\n",
    "df = df.dropna(subset=['category'])\n",
    "\n",
    "# Step 3: TF-IDF vectorizer setup\n",
    "ngram_range = (1, 3)  # Trigram\n",
    "max_features = 1000  # Set max_features to 1000\n",
    "vectorizer = TfidfVectorizer(ngram_range=ngram_range, max_features=max_features)\n",
    "X = vectorizer.fit_transform(df['clean_comment'])\n",
    "y = df['category']\n",
    "\n",
    "# Step 4: Apply SMOTE to handle class imbalance\n",
    "smote = SMOTE(random_state=42)\n",
    "X_resampled, y_resampled = smote.fit_resample(X, y)\n",
    "\n",
    "# Step 5: Train-test split\n",
    "X_train, X_test, y_train, y_test = train_test_split(X_resampled, y_resampled, test_size=0.2, random_state=42, stratify=y_resampled)\n",
    "\n",
    "# Function to log results in MLflow\n",
    "def log_mlflow(model_name, model, X_train, X_test, y_train, y_test):\n",
    "    with mlflow.start_run():\n",
    "        # Log model type\n",
    "        mlflow.set_tag(\"mlflow.runName\", f\"{model_name}_SMOTE_TFIDF_Trigrams\")\n",
    "        mlflow.set_tag(\"experiment_type\", \"algorithm_comparison\")\n",
    "\n",
    "        # Log algorithm name as a parameter\n",
    "        mlflow.log_param(\"algo_name\", model_name)\n",
    "\n",
    "        # Train model\n",
    "        model.fit(X_train, y_train)\n",
    "        y_pred = model.predict(X_test)\n",
    "\n",
    "        # Log accuracy\n",
    "        accuracy = accuracy_score(y_test, y_pred)\n",
    "        mlflow.log_metric(\"accuracy\", accuracy)\n",
    "\n",
    "        # Log classification report\n",
    "        classification_rep = classification_report(y_test, y_pred, output_dict=True)\n",
    "        for label, metrics in classification_rep.items():\n",
    "            if isinstance(metrics, dict):\n",
    "                for metric, value in metrics.items():\n",
    "                    mlflow.log_metric(f\"{label}_{metric}\", value)\n",
    "\n",
    "        # Log the model\n",
    "        mlflow.sklearn.log_model(model, f\"{model_name}_model\")\n",
    "\n",
    "\n",
    "# Step 6: Optuna objective function for SVM\n",
    "def objective_svm(trial):\n",
    "    C = trial.suggest_float('C', 1e-4, 10.0, log=True)\n",
    "    kernel = trial.suggest_categorical('kernel', ['linear', 'rbf', 'poly'])\n",
    "\n",
    "    model = SVC(C=C, kernel=kernel, random_state=42)\n",
    "    return accuracy_score(y_test, model.fit(X_train, y_train).predict(X_test))\n",
    "\n",
    "\n",
    "# Step 7: Run Optuna for SVM, log the best model only\n",
    "def run_optuna_experiment():\n",
    "    study = optuna.create_study(direction=\"maximize\")\n",
    "    study.optimize(objective_svm, n_trials=30)\n",
    "\n",
    "    # Get the best parameters and log only the best model\n",
    "    best_params = study.best_params\n",
    "    best_model = SVC(C=best_params['C'], kernel=best_params['kernel'], random_state=42)\n",
    "\n",
    "    # Log the best model with MLflow, passing the algo_name as \"SVM\"\n",
    "    log_mlflow(\"SVM\", best_model, X_train, X_test, y_train, y_test)\n",
    "\n",
    "# Run the experiment for SVM\n",
    "run_optuna_experiment()\n"
   ]
  },
  {
   "cell_type": "code",
   "execution_count": null,
   "metadata": {},
   "outputs": [],
   "source": []
  }
 ],
 "metadata": {
  "kernelspec": {
   "display_name": "venv-sentiment",
   "language": "python",
   "name": "python3"
  },
  "language_info": {
   "codemirror_mode": {
    "name": "ipython",
    "version": 3
   },
   "file_extension": ".py",
   "mimetype": "text/x-python",
   "name": "python",
   "nbconvert_exporter": "python",
   "pygments_lexer": "ipython3",
   "version": "3.11.4"
  }
 },
 "nbformat": 4,
 "nbformat_minor": 2
}
