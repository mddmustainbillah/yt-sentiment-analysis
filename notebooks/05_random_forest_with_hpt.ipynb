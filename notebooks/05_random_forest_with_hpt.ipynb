{
 "cells": [
  {
   "cell_type": "code",
   "execution_count": 1,
   "metadata": {},
   "outputs": [
    {
     "name": "stderr",
     "output_type": "stream",
     "text": [
      "/Users/mustainbillah/Projects/sentiment-analysis/venv-sentiment/lib/python3.11/site-packages/tqdm/auto.py:21: TqdmWarning: IProgress not found. Please update jupyter and ipywidgets. See https://ipywidgets.readthedocs.io/en/stable/user_install.html\n",
      "  from .autonotebook import tqdm as notebook_tqdm\n"
     ]
    }
   ],
   "source": [
    "import pandas as pd\n",
    "from sklearn.feature_extraction.text import TfidfVectorizer\n",
    "from sklearn.model_selection import train_test_split\n",
    "from sklearn.ensemble import RandomForestClassifier\n",
    "from sklearn.metrics import accuracy_score, classification_report\n",
    "from imblearn.over_sampling import SMOTE\n",
    "import mlflow\n",
    "import mlflow.sklearn\n",
    "import optuna\n"
   ]
  },
  {
   "cell_type": "code",
   "execution_count": 2,
   "metadata": {},
   "outputs": [
    {
     "data": {
      "text/plain": [
       "<Experiment: artifact_location='file:///Users/mustainbillah/Projects/sentiment-analysis/mlruns/658432777505770578', creation_time=1748791728665, experiment_id='658432777505770578', last_update_time=1748791728665, lifecycle_stage='active', name='04_ML_Algorithm_Comparison_with_HPT', tags={}>"
      ]
     },
     "execution_count": 2,
     "metadata": {},
     "output_type": "execute_result"
    }
   ],
   "source": [
    "# Set the tracking URI to the local mlruns directory\n",
    "mlflow.set_tracking_uri(\"file:///Users/mustainbillah/Projects/sentiment-analysis/mlruns\")\n",
    "\n",
    "# Create and set the experiment\n",
    "experiment_name = \"04_ML_Algorithm_Comparison_with_HPT\"\n",
    "try:\n",
    "    experiment_id = mlflow.create_experiment(experiment_name)\n",
    "except:\n",
    "    experiment_id = mlflow.get_experiment_by_name(experiment_name).experiment_id\n",
    "mlflow.set_experiment(experiment_name)"
   ]
  },
  {
   "cell_type": "code",
   "execution_count": 3,
   "metadata": {},
   "outputs": [
    {
     "data": {
      "text/plain": [
       "(36662, 2)"
      ]
     },
     "execution_count": 3,
     "metadata": {},
     "output_type": "execute_result"
    }
   ],
   "source": [
    "df = pd.read_csv('reddit_preprocessing.csv').dropna(subset=['clean_comment'])\n",
    "df.shape"
   ]
  },
  {
   "cell_type": "code",
   "execution_count": 4,
   "metadata": {},
   "outputs": [
    {
     "name": "stderr",
     "output_type": "stream",
     "text": [
      "[I 2025-06-02 11:16:24,275] A new study created in memory with name: no-name-5dc0b884-3565-4847-a33a-1bca3c36331c\n",
      "[I 2025-06-02 11:16:25,050] Trial 0 finished with value: 0.6240752483618686 and parameters: {'n_estimators': 130, 'max_depth': 4, 'min_samples_split': 9, 'min_samples_leaf': 1}. Best is trial 0 with value: 0.6240752483618686.\n",
      "[I 2025-06-02 11:16:27,020] Trial 1 finished with value: 0.6494398647220461 and parameters: {'n_estimators': 249, 'max_depth': 7, 'min_samples_split': 3, 'min_samples_leaf': 9}. Best is trial 1 with value: 0.6494398647220461.\n",
      "[I 2025-06-02 11:16:31,387] Trial 2 finished with value: 0.6948848023673642 and parameters: {'n_estimators': 279, 'max_depth': 16, 'min_samples_split': 17, 'min_samples_leaf': 3}. Best is trial 2 with value: 0.6948848023673642.\n",
      "[I 2025-06-02 11:16:32,356] Trial 3 finished with value: 0.6230183893468612 and parameters: {'n_estimators': 157, 'max_depth': 3, 'min_samples_split': 20, 'min_samples_leaf': 4}. Best is trial 2 with value: 0.6948848023673642.\n",
      "[I 2025-06-02 11:16:33,475] Trial 4 finished with value: 0.6057915874022406 and parameters: {'n_estimators': 101, 'max_depth': 3, 'min_samples_split': 12, 'min_samples_leaf': 14}. Best is trial 2 with value: 0.6948848023673642.\n",
      "[I 2025-06-02 11:16:36,219] Trial 5 finished with value: 0.6460579158740224 and parameters: {'n_estimators': 286, 'max_depth': 6, 'min_samples_split': 11, 'min_samples_leaf': 20}. Best is trial 2 with value: 0.6948848023673642.\n",
      "[I 2025-06-02 11:16:36,714] Trial 6 finished with value: 0.621855844430353 and parameters: {'n_estimators': 50, 'max_depth': 6, 'min_samples_split': 12, 'min_samples_leaf': 8}. Best is trial 2 with value: 0.6948848023673642.\n",
      "[I 2025-06-02 11:16:38,822] Trial 7 finished with value: 0.6938279433523568 and parameters: {'n_estimators': 87, 'max_depth': 16, 'min_samples_split': 16, 'min_samples_leaf': 2}. Best is trial 2 with value: 0.6948848023673642.\n",
      "[I 2025-06-02 11:16:41,093] Trial 8 finished with value: 0.6532445571760727 and parameters: {'n_estimators': 200, 'max_depth': 8, 'min_samples_split': 12, 'min_samples_leaf': 16}. Best is trial 2 with value: 0.6948848023673642.\n",
      "[I 2025-06-02 11:16:45,345] Trial 9 finished with value: 0.6515535827520609 and parameters: {'n_estimators': 234, 'max_depth': 7, 'min_samples_split': 12, 'min_samples_leaf': 1}. Best is trial 2 with value: 0.6948848023673642.\n",
      "[I 2025-06-02 11:16:51,161] Trial 10 finished with value: 0.6960473472838723 and parameters: {'n_estimators': 293, 'max_depth': 17, 'min_samples_split': 20, 'min_samples_leaf': 5}. Best is trial 10 with value: 0.6960473472838723.\n",
      "[I 2025-06-02 11:16:56,575] Trial 11 finished with value: 0.6997463538363983 and parameters: {'n_estimators': 295, 'max_depth': 19, 'min_samples_split': 20, 'min_samples_leaf': 5}. Best is trial 11 with value: 0.6997463538363983.\n",
      "[I 2025-06-02 11:17:01,604] Trial 12 finished with value: 0.7035510462904249 and parameters: {'n_estimators': 293, 'max_depth': 20, 'min_samples_split': 20, 'min_samples_leaf': 6}. Best is trial 12 with value: 0.7035510462904249.\n",
      "[I 2025-06-02 11:17:05,498] Trial 13 finished with value: 0.7028112449799196 and parameters: {'n_estimators': 221, 'max_depth': 20, 'min_samples_split': 17, 'min_samples_leaf': 6}. Best is trial 12 with value: 0.7035510462904249.\n",
      "[I 2025-06-02 11:17:08,825] Trial 14 finished with value: 0.7017543859649122 and parameters: {'n_estimators': 199, 'max_depth': 20, 'min_samples_split': 16, 'min_samples_leaf': 11}. Best is trial 12 with value: 0.7035510462904249.\n",
      "[I 2025-06-02 11:17:11,957] Trial 15 finished with value: 0.6825195518917776 and parameters: {'n_estimators': 242, 'max_depth': 13, 'min_samples_split': 17, 'min_samples_leaf': 7}. Best is trial 12 with value: 0.7035510462904249.\n",
      "[I 2025-06-02 11:17:14,334] Trial 16 finished with value: 0.6752272246882266 and parameters: {'n_estimators': 204, 'max_depth': 12, 'min_samples_split': 6, 'min_samples_leaf': 11}. Best is trial 12 with value: 0.7035510462904249.\n",
      "[I 2025-06-02 11:17:20,696] Trial 17 finished with value: 0.6965757767913761 and parameters: {'n_estimators': 255, 'max_depth': 18, 'min_samples_split': 15, 'min_samples_leaf': 6}. Best is trial 12 with value: 0.7035510462904249.\n",
      "[I 2025-06-02 11:17:24,026] Trial 18 finished with value: 0.6838934686112873 and parameters: {'n_estimators': 229, 'max_depth': 14, 'min_samples_split': 18, 'min_samples_leaf': 9}. Best is trial 12 with value: 0.7035510462904249.\n",
      "[I 2025-06-02 11:17:27,293] Trial 19 finished with value: 0.7000634115409005 and parameters: {'n_estimators': 163, 'max_depth': 20, 'min_samples_split': 14, 'min_samples_leaf': 14}. Best is trial 12 with value: 0.7035510462904249.\n",
      "[I 2025-06-02 11:17:30,048] Trial 20 finished with value: 0.66856901289368 and parameters: {'n_estimators': 266, 'max_depth': 10, 'min_samples_split': 19, 'min_samples_leaf': 13}. Best is trial 12 with value: 0.7035510462904249.\n",
      "[I 2025-06-02 11:17:33,252] Trial 21 finished with value: 0.6997463538363983 and parameters: {'n_estimators': 194, 'max_depth': 20, 'min_samples_split': 15, 'min_samples_leaf': 10}. Best is trial 12 with value: 0.7035510462904249.\n",
      "[I 2025-06-02 11:17:36,844] Trial 22 finished with value: 0.6929824561403509 and parameters: {'n_estimators': 217, 'max_depth': 18, 'min_samples_split': 17, 'min_samples_leaf': 12}. Best is trial 12 with value: 0.7035510462904249.\n",
      "[I 2025-06-02 11:17:39,733] Trial 23 finished with value: 0.687275417459311 and parameters: {'n_estimators': 176, 'max_depth': 15, 'min_samples_split': 18, 'min_samples_leaf': 7}. Best is trial 12 with value: 0.7035510462904249.\n",
      "[I 2025-06-02 11:17:42,095] Trial 24 finished with value: 0.6978440076093849 and parameters: {'n_estimators': 153, 'max_depth': 20, 'min_samples_split': 14, 'min_samples_leaf': 16}. Best is trial 12 with value: 0.7035510462904249.\n",
      "[I 2025-06-02 11:17:44,813] Trial 25 finished with value: 0.6944620587613612 and parameters: {'n_estimators': 179, 'max_depth': 18, 'min_samples_split': 9, 'min_samples_leaf': 10}. Best is trial 12 with value: 0.7035510462904249.\n",
      "[I 2025-06-02 11:17:48,572] Trial 26 finished with value: 0.6981610653138871 and parameters: {'n_estimators': 218, 'max_depth': 19, 'min_samples_split': 18, 'min_samples_leaf': 7}. Best is trial 12 with value: 0.7035510462904249.\n",
      "[I 2025-06-02 11:17:53,301] Trial 27 finished with value: 0.6953075459733672 and parameters: {'n_estimators': 268, 'max_depth': 16, 'min_samples_split': 15, 'min_samples_leaf': 4}. Best is trial 12 with value: 0.7035510462904249.\n",
      "[I 2025-06-02 11:17:54,934] Trial 28 finished with value: 0.6594800253646164 and parameters: {'n_estimators': 121, 'max_depth': 10, 'min_samples_split': 19, 'min_samples_leaf': 8}. Best is trial 12 with value: 0.7035510462904249.\n",
      "[I 2025-06-02 11:17:57,098] Trial 29 finished with value: 0.6977383217078842 and parameters: {'n_estimators': 140, 'max_depth': 19, 'min_samples_split': 9, 'min_samples_leaf': 12}. Best is trial 12 with value: 0.7035510462904249.\n",
      "\u001b[31m2025/06/02 11:18:05 WARNING mlflow.models.model: Model logged without a signature and input example. Please set `input_example` parameter when logging the model to auto infer the model signature.\u001b[0m\n"
     ]
    }
   ],
   "source": [
    "# Step 1: (Optional) Remapping - skipped since not strictly needed for Random Forest\n",
    "\n",
    "# Step 2: Remove rows where the target labels (category) are NaN\n",
    "df = df.dropna(subset=['category'])\n",
    "\n",
    "# Step 3: TF-IDF vectorizer setup\n",
    "ngram_range = (1, 3)  # Trigram\n",
    "max_features = 1000  # Set max_features to 1000\n",
    "vectorizer = TfidfVectorizer(ngram_range=ngram_range, max_features=max_features)\n",
    "X = vectorizer.fit_transform(df['clean_comment'])\n",
    "y = df['category']\n",
    "\n",
    "# Step 4: Apply SMOTE to handle class imbalance\n",
    "smote = SMOTE(random_state=42)\n",
    "X_resampled, y_resampled = smote.fit_resample(X, y)\n",
    "\n",
    "# Step 5: Train-test split\n",
    "X_train, X_test, y_train, y_test = train_test_split(X_resampled, y_resampled, test_size=0.2, random_state=42, stratify=y_resampled)\n",
    "\n",
    "# Function to log results in MLflow\n",
    "def log_mlflow(model_name, model, X_train, X_test, y_train, y_test):\n",
    "    with mlflow.start_run():\n",
    "        # Log model type\n",
    "        mlflow.set_tag(\"mlflow.runName\", f\"{model_name}_SMOTE_TFIDF_Trigrams\")\n",
    "        mlflow.set_tag(\"experiment_type\", \"algorithm_comparison\")\n",
    "\n",
    "        # Log algorithm name as a parameter\n",
    "        mlflow.log_param(\"algo_name\", model_name)\n",
    "\n",
    "        # Train model\n",
    "        model.fit(X_train, y_train)\n",
    "        y_pred = model.predict(X_test)\n",
    "\n",
    "        # Log accuracy\n",
    "        accuracy = accuracy_score(y_test, y_pred)\n",
    "        mlflow.log_metric(\"accuracy\", accuracy)\n",
    "\n",
    "        # Log classification report\n",
    "        classification_rep = classification_report(y_test, y_pred, output_dict=True)\n",
    "        for label, metrics in classification_rep.items():\n",
    "            if isinstance(metrics, dict):\n",
    "                for metric, value in metrics.items():\n",
    "                    mlflow.log_metric(f\"{label}_{metric}\", value)\n",
    "\n",
    "        # Log the model\n",
    "        mlflow.sklearn.log_model(model, f\"{model_name}_model\")\n",
    "\n",
    "\n",
    "# Step 6: Optuna objective function for Random Forest\n",
    "def objective_rf(trial):\n",
    "    n_estimators = trial.suggest_int('n_estimators', 50, 300)  # Number of trees in the forest\n",
    "    max_depth = trial.suggest_int('max_depth', 3, 20)  # Maximum depth of the tree\n",
    "    min_samples_split = trial.suggest_int('min_samples_split', 2, 20)  # Minimum samples required to split a node\n",
    "    min_samples_leaf = trial.suggest_int('min_samples_leaf', 1, 20)  # Minimum samples required at a leaf node\n",
    "\n",
    "    # RandomForestClassifier setup\n",
    "    model = RandomForestClassifier(n_estimators=n_estimators, max_depth=max_depth,\n",
    "                                   min_samples_split=min_samples_split, min_samples_leaf=min_samples_leaf,\n",
    "                                   random_state=42)\n",
    "    return accuracy_score(y_test, model.fit(X_train, y_train).predict(X_test))\n",
    "\n",
    "\n",
    "# Step 7: Run Optuna for Random Forest, log the best model only\n",
    "def run_optuna_experiment():\n",
    "    study = optuna.create_study(direction=\"maximize\")\n",
    "    study.optimize(objective_rf, n_trials=30)\n",
    "\n",
    "    # Get the best parameters and log only the best model\n",
    "    best_params = study.best_params\n",
    "    best_model = RandomForestClassifier(n_estimators=best_params['n_estimators'],\n",
    "                                        max_depth=best_params['max_depth'],\n",
    "                                        min_samples_split=best_params['min_samples_split'],\n",
    "                                        min_samples_leaf=best_params['min_samples_leaf'],\n",
    "                                        random_state=42)\n",
    "\n",
    "    # Log the best model with MLflow, passing the algo_name as \"RandomForest\"\n",
    "    log_mlflow(\"RandomForest\", best_model, X_train, X_test, y_train, y_test)\n",
    "\n",
    "# Run the experiment for Random Forest\n",
    "run_optuna_experiment()\n"
   ]
  },
  {
   "cell_type": "code",
   "execution_count": null,
   "metadata": {},
   "outputs": [],
   "source": []
  }
 ],
 "metadata": {
  "kernelspec": {
   "display_name": "venv-sentiment",
   "language": "python",
   "name": "python3"
  },
  "language_info": {
   "codemirror_mode": {
    "name": "ipython",
    "version": 3
   },
   "file_extension": ".py",
   "mimetype": "text/x-python",
   "name": "python",
   "nbconvert_exporter": "python",
   "pygments_lexer": "ipython3",
   "version": "3.11.4"
  }
 },
 "nbformat": 4,
 "nbformat_minor": 2
}
