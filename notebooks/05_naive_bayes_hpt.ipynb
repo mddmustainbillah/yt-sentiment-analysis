{
 "cells": [
  {
   "cell_type": "code",
   "execution_count": 1,
   "metadata": {},
   "outputs": [
    {
     "name": "stderr",
     "output_type": "stream",
     "text": [
      "/Users/mustainbillah/Projects/sentiment-analysis/venv-sentiment/lib/python3.11/site-packages/tqdm/auto.py:21: TqdmWarning: IProgress not found. Please update jupyter and ipywidgets. See https://ipywidgets.readthedocs.io/en/stable/user_install.html\n",
      "  from .autonotebook import tqdm as notebook_tqdm\n"
     ]
    }
   ],
   "source": [
    "import pandas as pd\n",
    "from sklearn.feature_extraction.text import TfidfVectorizer\n",
    "from sklearn.model_selection import train_test_split\n",
    "from sklearn.naive_bayes import MultinomialNB\n",
    "from sklearn.metrics import accuracy_score, classification_report\n",
    "from imblearn.over_sampling import SMOTE\n",
    "import mlflow\n",
    "import mlflow.sklearn\n",
    "import optuna\n"
   ]
  },
  {
   "cell_type": "code",
   "execution_count": 2,
   "metadata": {},
   "outputs": [
    {
     "data": {
      "text/plain": [
       "<Experiment: artifact_location='file:///Users/mustainbillah/Projects/sentiment-analysis/mlruns/658432777505770578', creation_time=1748791728665, experiment_id='658432777505770578', last_update_time=1748791728665, lifecycle_stage='active', name='04_ML_Algorithm_Comparison_with_HPT', tags={}>"
      ]
     },
     "execution_count": 2,
     "metadata": {},
     "output_type": "execute_result"
    }
   ],
   "source": [
    "# Set the tracking URI to the local mlruns directory\n",
    "mlflow.set_tracking_uri(\"file:///Users/mustainbillah/Projects/sentiment-analysis/mlruns\")\n",
    "\n",
    "# Create and set the experiment\n",
    "experiment_name = \"04_ML_Algorithm_Comparison_with_HPT\"\n",
    "try:\n",
    "    experiment_id = mlflow.create_experiment(experiment_name)\n",
    "except:\n",
    "    experiment_id = mlflow.get_experiment_by_name(experiment_name).experiment_id\n",
    "mlflow.set_experiment(experiment_name)"
   ]
  },
  {
   "cell_type": "code",
   "execution_count": 3,
   "metadata": {},
   "outputs": [
    {
     "data": {
      "text/plain": [
       "(36662, 2)"
      ]
     },
     "execution_count": 3,
     "metadata": {},
     "output_type": "execute_result"
    }
   ],
   "source": [
    "df = pd.read_csv('reddit_preprocessing.csv').dropna(subset=['clean_comment'])\n",
    "df.shape"
   ]
  },
  {
   "cell_type": "code",
   "execution_count": 4,
   "metadata": {},
   "outputs": [
    {
     "name": "stderr",
     "output_type": "stream",
     "text": [
      "[I 2025-06-02 11:10:07,784] A new study created in memory with name: no-name-011c7830-9693-4ef4-adac-785d13cdc685\n",
      "[I 2025-06-02 11:10:07,801] Trial 0 finished with value: 0.6673007820756711 and parameters: {'alpha': 0.0002521550256140671}. Best is trial 0 with value: 0.6673007820756711.\n",
      "[I 2025-06-02 11:10:07,807] Trial 1 finished with value: 0.6673007820756711 and parameters: {'alpha': 0.0019470751351494937}. Best is trial 0 with value: 0.6673007820756711.\n",
      "[I 2025-06-02 11:10:07,812] Trial 2 finished with value: 0.6673007820756711 and parameters: {'alpha': 0.005328659722402065}. Best is trial 0 with value: 0.6673007820756711.\n",
      "[I 2025-06-02 11:10:07,818] Trial 3 finished with value: 0.6673007820756711 and parameters: {'alpha': 0.0007050131480746919}. Best is trial 0 with value: 0.6673007820756711.\n",
      "[I 2025-06-02 11:10:07,825] Trial 4 finished with value: 0.6673007820756711 and parameters: {'alpha': 0.00013116074449827115}. Best is trial 0 with value: 0.6673007820756711.\n",
      "[I 2025-06-02 11:10:07,830] Trial 5 finished with value: 0.6671950961741704 and parameters: {'alpha': 0.010651468408014385}. Best is trial 0 with value: 0.6673007820756711.\n",
      "[I 2025-06-02 11:10:07,835] Trial 6 finished with value: 0.6673007820756711 and parameters: {'alpha': 0.004634810290756168}. Best is trial 0 with value: 0.6673007820756711.\n",
      "[I 2025-06-02 11:10:07,842] Trial 7 finished with value: 0.6673007820756711 and parameters: {'alpha': 0.00021885060637042035}. Best is trial 0 with value: 0.6673007820756711.\n",
      "[I 2025-06-02 11:10:07,847] Trial 8 finished with value: 0.6673007820756711 and parameters: {'alpha': 0.0005556995491450342}. Best is trial 0 with value: 0.6673007820756711.\n",
      "[I 2025-06-02 11:10:07,852] Trial 9 finished with value: 0.6673007820756711 and parameters: {'alpha': 0.000333070196824172}. Best is trial 0 with value: 0.6673007820756711.\n",
      "[I 2025-06-02 11:10:07,864] Trial 10 finished with value: 0.6665609807651659 and parameters: {'alpha': 0.13363239067552865}. Best is trial 0 with value: 0.6673007820756711.\n",
      "[I 2025-06-02 11:10:07,871] Trial 11 finished with value: 0.6673007820756711 and parameters: {'alpha': 0.001784582939678628}. Best is trial 0 with value: 0.6673007820756711.\n",
      "[I 2025-06-02 11:10:07,878] Trial 12 finished with value: 0.6667723525681674 and parameters: {'alpha': 0.07944860294870684}. Best is trial 0 with value: 0.6673007820756711.\n",
      "[I 2025-06-02 11:10:07,888] Trial 13 finished with value: 0.6671950961741704 and parameters: {'alpha': 0.01393640323353038}. Best is trial 0 with value: 0.6673007820756711.\n",
      "[I 2025-06-02 11:10:07,894] Trial 14 finished with value: 0.6673007820756711 and parameters: {'alpha': 0.0016206970495267863}. Best is trial 0 with value: 0.6673007820756711.\n",
      "[I 2025-06-02 11:10:07,900] Trial 15 finished with value: 0.6645529486366518 and parameters: {'alpha': 0.6915344686922044}. Best is trial 0 with value: 0.6673007820756711.\n",
      "[I 2025-06-02 11:10:07,906] Trial 16 finished with value: 0.6673007820756711 and parameters: {'alpha': 0.00010511925474167447}. Best is trial 0 with value: 0.6673007820756711.\n",
      "[I 2025-06-02 11:10:07,912] Trial 17 finished with value: 0.6673007820756711 and parameters: {'alpha': 0.0014226769033199155}. Best is trial 0 with value: 0.6673007820756711.\n",
      "[I 2025-06-02 11:10:07,918] Trial 18 finished with value: 0.6671950961741704 and parameters: {'alpha': 0.04041468266244928}. Best is trial 0 with value: 0.6673007820756711.\n",
      "[I 2025-06-02 11:10:07,925] Trial 19 finished with value: 0.6673007820756711 and parameters: {'alpha': 0.0006657718530270238}. Best is trial 0 with value: 0.6673007820756711.\n",
      "[I 2025-06-02 11:10:07,930] Trial 20 finished with value: 0.6673007820756711 and parameters: {'alpha': 0.004393889321166449}. Best is trial 0 with value: 0.6673007820756711.\n",
      "[I 2025-06-02 11:10:07,938] Trial 21 finished with value: 0.6673007820756711 and parameters: {'alpha': 0.006261733038300859}. Best is trial 0 with value: 0.6673007820756711.\n",
      "[I 2025-06-02 11:10:07,944] Trial 22 finished with value: 0.6673007820756711 and parameters: {'alpha': 0.017436007333325416}. Best is trial 0 with value: 0.6673007820756711.\n",
      "[I 2025-06-02 11:10:07,951] Trial 23 finished with value: 0.6674064679771718 and parameters: {'alpha': 0.0027193930903152827}. Best is trial 23 with value: 0.6674064679771718.\n",
      "[I 2025-06-02 11:10:07,957] Trial 24 finished with value: 0.6674064679771718 and parameters: {'alpha': 0.0023924433429050335}. Best is trial 23 with value: 0.6674064679771718.\n",
      "[I 2025-06-02 11:10:07,964] Trial 25 finished with value: 0.6673007820756711 and parameters: {'alpha': 0.0003399519895547319}. Best is trial 23 with value: 0.6674064679771718.\n",
      "[I 2025-06-02 11:10:07,971] Trial 26 finished with value: 0.6673007820756711 and parameters: {'alpha': 0.02720116626185408}. Best is trial 23 with value: 0.6674064679771718.\n",
      "[I 2025-06-02 11:10:07,978] Trial 27 finished with value: 0.6673007820756711 and parameters: {'alpha': 0.0009386136247689842}. Best is trial 23 with value: 0.6674064679771718.\n",
      "[I 2025-06-02 11:10:07,986] Trial 28 finished with value: 0.6674064679771718 and parameters: {'alpha': 0.0022154496432943145}. Best is trial 23 with value: 0.6674064679771718.\n",
      "[I 2025-06-02 11:10:07,993] Trial 29 finished with value: 0.6674064679771718 and parameters: {'alpha': 0.002553608614306843}. Best is trial 23 with value: 0.6674064679771718.\n",
      "\u001b[31m2025/06/02 11:10:11 WARNING mlflow.models.model: Model logged without a signature and input example. Please set `input_example` parameter when logging the model to auto infer the model signature.\u001b[0m\n"
     ]
    }
   ],
   "source": [
    "# Step 1: (Optional) Remapping - skipped since not strictly needed for Multinomial Naive Bayes\n",
    "\n",
    "# Step 2: Remove rows where the target labels (category) are NaN\n",
    "df = df.dropna(subset=['category'])\n",
    "\n",
    "# Step 3: TF-IDF vectorizer setup\n",
    "ngram_range = (1, 3)  # Trigram\n",
    "max_features = 1000  # Set max_features to 1000\n",
    "vectorizer = TfidfVectorizer(ngram_range=ngram_range, max_features=max_features)\n",
    "X = vectorizer.fit_transform(df['clean_comment'])\n",
    "y = df['category']\n",
    "\n",
    "# Step 4: Apply SMOTE to handle class imbalance\n",
    "smote = SMOTE(random_state=42)\n",
    "X_resampled, y_resampled = smote.fit_resample(X, y)\n",
    "\n",
    "# Step 5: Train-test split\n",
    "X_train, X_test, y_train, y_test = train_test_split(X_resampled, y_resampled, test_size=0.2, random_state=42, stratify=y_resampled)\n",
    "\n",
    "# Function to log results in MLflow\n",
    "def log_mlflow(model_name, model, X_train, X_test, y_train, y_test):\n",
    "    with mlflow.start_run():\n",
    "        # Log model type\n",
    "        mlflow.set_tag(\"mlflow.runName\", f\"{model_name}_SMOTE_TFIDF_Trigrams\")\n",
    "        mlflow.set_tag(\"experiment_type\", \"algorithm_comparison\")\n",
    "\n",
    "        # Log algorithm name as a parameter\n",
    "        mlflow.log_param(\"algo_name\", model_name)\n",
    "\n",
    "        # Train model\n",
    "        model.fit(X_train, y_train)\n",
    "        y_pred = model.predict(X_test)\n",
    "\n",
    "        # Log accuracy\n",
    "        accuracy = accuracy_score(y_test, y_pred)\n",
    "        mlflow.log_metric(\"accuracy\", accuracy)\n",
    "\n",
    "        # Log classification report\n",
    "        classification_rep = classification_report(y_test, y_pred, output_dict=True)\n",
    "        for label, metrics in classification_rep.items():\n",
    "            if isinstance(metrics, dict):\n",
    "                for metric, value in metrics.items():\n",
    "                    mlflow.log_metric(f\"{label}_{metric}\", value)\n",
    "\n",
    "        # Log the model\n",
    "        mlflow.sklearn.log_model(model, f\"{model_name}_model\")\n",
    "\n",
    "\n",
    "# Step 6: Optuna objective function for Multinomial Naive Bayes\n",
    "def objective_mnb(trial):\n",
    "    alpha = trial.suggest_float('alpha', 1e-4, 1.0, log=True)  # Tuning the smoothing parameter\n",
    "\n",
    "    # MultinomialNB model setup\n",
    "    model = MultinomialNB(alpha=alpha)\n",
    "    return accuracy_score(y_test, model.fit(X_train, y_train).predict(X_test))\n",
    "\n",
    "\n",
    "# Step 7: Run Optuna for Multinomial Naive Bayes, log the best model only\n",
    "def run_optuna_experiment():\n",
    "    study = optuna.create_study(direction=\"maximize\")\n",
    "    study.optimize(objective_mnb, n_trials=30)\n",
    "\n",
    "    # Get the best parameters and log only the best model\n",
    "    best_params = study.best_params\n",
    "    best_model = MultinomialNB(alpha=best_params['alpha'])\n",
    "\n",
    "    # Log the best model with MLflow, passing the algo_name as \"MultinomialNB\"\n",
    "    log_mlflow(\"MultinomialNB\", best_model, X_train, X_test, y_train, y_test)\n",
    "\n",
    "# Run the experiment for Multinomial Naive Bayes\n",
    "run_optuna_experiment()\n"
   ]
  },
  {
   "cell_type": "code",
   "execution_count": null,
   "metadata": {},
   "outputs": [],
   "source": []
  }
 ],
 "metadata": {
  "kernelspec": {
   "display_name": "venv-sentiment",
   "language": "python",
   "name": "python3"
  },
  "language_info": {
   "codemirror_mode": {
    "name": "ipython",
    "version": 3
   },
   "file_extension": ".py",
   "mimetype": "text/x-python",
   "name": "python",
   "nbconvert_exporter": "python",
   "pygments_lexer": "ipython3",
   "version": "3.11.4"
  }
 },
 "nbformat": 4,
 "nbformat_minor": 2
}
